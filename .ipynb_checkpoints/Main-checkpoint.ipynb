{
 "cells": [
  {
   "cell_type": "code",
   "execution_count": 1,
   "metadata": {
    "collapsed": true
   },
   "outputs": [],
   "source": [
    "import re\n"
   ]
  },
  {
   "cell_type": "code",
   "execution_count": 34,
   "metadata": {
    "collapsed": false
   },
   "outputs": [],
   "source": [
    "phageDNA = open(\"Bacillus phage BCP78.txt\").read()\n"
   ]
  },
  {
   "cell_type": "code",
   "execution_count": 35,
   "metadata": {
    "collapsed": false
   },
   "outputs": [],
   "source": [
    "def cleaningDnaData(dna):\n",
    "    dna = dna.replace('ORIGIN','')\n",
    "    for i in range(0,10):\n",
    "        dna = dna.replace(str(i),\" \")\n",
    "    dna = dna.replace(\" \",\"\")\n",
    "    dna = dna.replace(\"\\n\",\"\")\n",
    "    return dna\n"
   ]
  },
  {
   "cell_type": "code",
   "execution_count": 36,
   "metadata": {
    "collapsed": false
   },
   "outputs": [
    {
     "data": {
      "text/plain": [
       "156176"
      ]
     },
     "execution_count": 36,
     "metadata": {},
     "output_type": "execute_result"
    }
   ],
   "source": [
    "phageDNA = cleaningDnaData(phageDNA)\n",
    "len(phageDNA)\n"
   ]
  },
  {
   "cell_type": "code",
   "execution_count": 37,
   "metadata": {
    "collapsed": true
   },
   "outputs": [],
   "source": [
    "def fetchPossibleCombinations(text):\n",
    "    combinations = []\n",
    "    for i in \"atgc\":\n",
    "        for j in \"atgc\":\n",
    "            for k in range(0,len(text)):\n",
    "                for l in range(0,len(text)):\n",
    "                    temp = list(text)\n",
    "                    temp[k] = i\n",
    "                    if l != k:\n",
    "                        temp[l] = j\n",
    "                        combinations.append(''.join(temp))\n",
    "    combinations = list(set(combinations))\n",
    "    return combinations\n"
   ]
  },
  {
   "cell_type": "code",
   "execution_count": 38,
   "metadata": {
    "collapsed": false
   },
   "outputs": [
    {
     "data": {
      "text/plain": [
       "['ttt',\n",
       " 'tag',\n",
       " 'tgg',\n",
       " 'ttc',\n",
       " 'tcg',\n",
       " 'tta',\n",
       " 'ttg',\n",
       " 'gta',\n",
       " 'gtc',\n",
       " 'gcg',\n",
       " 'gtg',\n",
       " 'gtt',\n",
       " 'acc',\n",
       " 'ctc',\n",
       " 'aca',\n",
       " 'cgg',\n",
       " 'ggg',\n",
       " 'gag',\n",
       " 'acg',\n",
       " 'ctt',\n",
       " 'atg',\n",
       " 'aag',\n",
       " 'aaa',\n",
       " 'atc',\n",
       " 'aac',\n",
       " 'ata',\n",
       " 'agg',\n",
       " 'agc',\n",
       " 'aga',\n",
       " 'aat',\n",
       " 'att',\n",
       " 'ctg',\n",
       " 'cta',\n",
       " 'act',\n",
       " 'ccg',\n",
       " 'agt',\n",
       " 'cag']"
      ]
     },
     "execution_count": 38,
     "metadata": {},
     "output_type": "execute_result"
    }
   ],
   "source": [
    "fetchPossibleCombinations(\"atg\")\n"
   ]
  },
  {
   "cell_type": "code",
   "execution_count": 45,
   "metadata": {
    "collapsed": false
   },
   "outputs": [],
   "source": [
    "def featureSearch(dna):\n",
    "    windowNumber = 0\n",
    "    resultDict = {}\n",
    "    for i in range(40,len(dna)): \n",
    "        infoDict = {\"tataBox\":[0],\"ttgacBox\":[0],\"atgBox\":[0]}\n",
    "        window = dna[i:i+3]\n",
    "#         for sequence3 in fetchPossibleCombinations(\"atg\"):\n",
    "        for sequence3 in [\"atg\",\"gtg\",\"ttg\"]:\n",
    "            if  window == sequence3:\n",
    "                infoDict[\"atgBox\"][0] = i+3\n",
    "                print i\n",
    "                for sequence in fetchPossibleCombinations(\"tataa\"):\n",
    "                    if  dna[i-15:i-10] == sequence :\n",
    "                        infoDict[\"tataBox\"][0] += i-15\n",
    "                        print i\n",
    "                        for sequence2 in fetchPossibleCombinations(\"ttgac\"):\n",
    "                            if dna[i-40:i-35] == sequence2:\n",
    "                                infoDict[\"ttgacBox\"][0] += i-40\n",
    "                                print i\n",
    "        key = \"set\" + \" \" + str(windowNumber)\n",
    "        resultDict[key] = infoDict\n",
    "        windowNumber += 1\n",
    "    return resultDict\n"
   ]
  },
  {
   "cell_type": "code",
   "execution_count": 40,
   "metadata": {
    "collapsed": false
   },
   "outputs": [],
   "source": [
    "from pprint import pprint\n",
    "result = featureSearch(phageDNA)\n"
   ]
  },
  {
   "cell_type": "code",
   "execution_count": 41,
   "metadata": {
    "collapsed": true
   },
   "outputs": [],
   "source": [
    "def deterministicSearch(listOfFeatures):\n",
    "    output = [listOfFeatures[sets] for sets in listOfFeatures if listOfFeatures[sets][\"atgBox\"][0] > 0 \\\n",
    "                 and listOfFeatures[sets][\"tataBox\"][0] > 0 and listOfFeatures[sets][\"ttgacBox\"][0] > 0]\n",
    "    return output\n"
   ]
  },
  {
   "cell_type": "code",
   "execution_count": 42,
   "metadata": {
    "collapsed": false
   },
   "outputs": [
    {
     "name": "stdout",
     "output_type": "stream",
     "text": [
      "Total number of sequences obtained: 133\n"
     ]
    }
   ],
   "source": [
    "output = deterministicSearch(result)\n",
    "# pprint(output)\n",
    "print \"Total number of sequences obtained: \" + str(len(output))\n"
   ]
  },
  {
   "cell_type": "code",
   "execution_count": 43,
   "metadata": {
    "collapsed": false
   },
   "outputs": [],
   "source": [
    "def fetchingTheSequences(dna,listOfLocationsOfFeatures):\n",
    "    sequenceList = []\n",
    "    for sequence in listOfLocationsOfFeatures:\n",
    "#         print sequence[\"atgBox\"][0]-sequence[\"ttgacBox\"][0]\n",
    "        sequenceList.append([dna[sequence[\"ttgacBox\"][0]:sequence[\"atgBox\"][0]],sequence,])\n",
    "    return sequenceList\n"
   ]
  },
  {
   "cell_type": "code",
   "execution_count": 44,
   "metadata": {
    "collapsed": false
   },
   "outputs": [
    {
     "data": {
      "text/plain": [
       "[['ttggttatttctctccttatgctagtttactgtttactttttg',\n",
       "  {'atgBox': [121715], 'tataBox': [121697], 'ttgacBox': [121672]}],\n",
       " ['ctgccaccttgagtgacagccttgttattatttgcttgtattg',\n",
       "  {'atgBox': [140699], 'tataBox': [140681], 'ttgacBox': [140656]}],\n",
       " ['tctacgggtgcttatcatgtatttctatgtggggcttcgtatg',\n",
       "  {'atgBox': [25487], 'tataBox': [25469], 'ttgacBox': [25444]}],\n",
       " ['ttaacttcccagttacaaccagtgttctcaggtgttaagaatg',\n",
       "  {'atgBox': [113229], 'tataBox': [113211], 'ttgacBox': [113186]}],\n",
       " ['tcgaagaactctcctgtttgccagtcagaaccttcgaatagtg',\n",
       "  {'atgBox': [96908], 'tataBox': [96890], 'ttgacBox': [96865]}],\n",
       " ['ttcccctgctactcttctacattcttctagtagctttaccttg',\n",
       "  {'atgBox': [33034], 'tataBox': [33016], 'ttgacBox': [32991]}],\n",
       " ['ttccctgactagcattattgctcttcataagtactgctgcttg',\n",
       "  {'atgBox': [154584], 'tataBox': [154566], 'ttgacBox': [154541]}],\n",
       " ['aggacatttcgagtgctagtttctttagactaaccattaagtg',\n",
       "  {'atgBox': [49503], 'tataBox': [49485], 'ttgacBox': [49460]}],\n",
       " ['tttagagtttgttagtgcgttgtcgcttaaagagtattggatg',\n",
       "  {'atgBox': [145205], 'tataBox': [145187], 'ttgacBox': [145162]}],\n",
       " ['ttgattgcccagttacggatagtaatggaagcagaagtagttg',\n",
       "  {'atgBox': [129414], 'tataBox': [129396], 'ttgacBox': [129371]}],\n",
       " ['atgtctaccaattccaacactccgccataatttaatttatttg',\n",
       "  {'atgBox': [436], 'tataBox': [418], 'ttgacBox': [393]}],\n",
       " ['tacacactctccttagaacgcaggtgttaagagtttggcattg',\n",
       "  {'atgBox': [34175], 'tataBox': [34157], 'ttgacBox': [34132]}],\n",
       " ['atgaacttaggacgtaccttttggtcatcaggagttttagttg',\n",
       "  {'atgBox': [114534], 'tataBox': [114516], 'ttgacBox': [114491]}],\n",
       " ['tagaccctgctgttttacctggtcttaggaagtttaacccttg',\n",
       "  {'atgBox': [122492], 'tataBox': [122474], 'ttgacBox': [122449]}],\n",
       " ['tcaacccgtttaaatcatgctcattagtaacttctaagttgtg',\n",
       "  {'atgBox': [28539], 'tataBox': [28521], 'ttgacBox': [28496]}],\n",
       " ['taaacacgtttgtaccgatgatgttcattaccatagggtcttg',\n",
       "  {'atgBox': [129289], 'tataBox': [129271], 'ttgacBox': [129246]}],\n",
       " ['tagaaaataacttatttgtctccgctactaggtaaaggtgatg',\n",
       "  {'atgBox': [51968], 'tataBox': [51950], 'ttgacBox': [51925]}],\n",
       " ['tatactaaatattatcaccattaggtttaacatatgttgaatg',\n",
       "  {'atgBox': [36710], 'tataBox': [36692], 'ttgacBox': [36667]}],\n",
       " ['tctacttgtgccactgcctgctcaatcttagctttatagaatg',\n",
       "  {'atgBox': [148843], 'tataBox': [148825], 'ttgacBox': [148800]}],\n",
       " ['tgaaccaaccgatgattaataggaatagagagtggaatacttg',\n",
       "  {'atgBox': [55453], 'tataBox': [55435], 'ttgacBox': [55410]}],\n",
       " ['tggtcatgagacagttccttgaatctctcatctgtaggaagtg',\n",
       "  {'atgBox': [140074], 'tataBox': [140056], 'ttgacBox': [140031]}],\n",
       " ['ttgcctgctctaacgatagtgtagccttaatcgtaaccttttg',\n",
       "  {'atgBox': [90725], 'tataBox': [90707], 'ttgacBox': [90682]}],\n",
       " ['ttcacctagagctaagattacatcgtttaagtcgtaatcagtg',\n",
       "  {'atgBox': [62634], 'tataBox': [62616], 'ttgacBox': [62591]}],\n",
       " ['gtgataaccttctcaaacaatgctttaaagtgagcattgtgtg',\n",
       "  {'atgBox': [103431], 'tataBox': [103413], 'ttgacBox': [103388]}],\n",
       " ['taggctgtagtgttttactatatagtatatgcttgtacgtttg',\n",
       "  {'atgBox': [32531], 'tataBox': [32513], 'ttgacBox': [32488]}],\n",
       " ['tcgatcgctttcatagctaacggtgtatctacaacttcgaatg',\n",
       "  {'atgBox': [66741], 'tataBox': [66723], 'ttgacBox': [66698]}],\n",
       " ['tagcctatagccatacctacaccgatattacctttttgaattg',\n",
       "  {'atgBox': [2532], 'tataBox': [2514], 'ttgacBox': [2489]}],\n",
       " ['ttaccgtttgcagtacctgtaccatcgtaagagagttccgttg',\n",
       "  {'atgBox': [130560], 'tataBox': [130542], 'ttgacBox': [130517]}],\n",
       " ['tagacccctggtggggggtggtgcgtctatatggtaaaaaatg',\n",
       "  {'atgBox': [25760], 'tataBox': [25742], 'ttgacBox': [25717]}],\n",
       " ['tttgccattttaaagtccaaccctgcataaggaacatcgaatg',\n",
       "  {'atgBox': [38688], 'tataBox': [38670], 'ttgacBox': [38645]}],\n",
       " ['tttgcagaccaactgtaaatgaaattaggaggaattaaacatg',\n",
       "  {'atgBox': [14823], 'tataBox': [14805], 'ttgacBox': [14780]}],\n",
       " ['ctgaaaataaggcagtctgcgatcgtagaacctacagagattg',\n",
       "  {'atgBox': [70509], 'tataBox': [70491], 'ttgacBox': [70466]}],\n",
       " ['atgtcctcaggtgtcatatcttctctgtgattgtacttatttg',\n",
       "  {'atgBox': [60826], 'tataBox': [60808], 'ttgacBox': [60783]}],\n",
       " ['tagaaccgaagtaaactcccacagaagtaattactcttgcttg',\n",
       "  {'atgBox': [113722], 'tataBox': [113704], 'ttgacBox': [113679]}],\n",
       " ['ttcataccacctgaaccatatgcagtattgaagaatgactttg',\n",
       "  {'atgBox': [138142], 'tataBox': [138124], 'ttgacBox': [138099]}],\n",
       " ['atgaatgcgaacctagatatgactgaattatctaaacgatttg',\n",
       "  {'atgBox': [13395], 'tataBox': [13377], 'ttgacBox': [13352]}],\n",
       " ['tcgactttatctatcttagtttctattttaccattaattagtg',\n",
       "  {'atgBox': [132192], 'tataBox': [132174], 'ttgacBox': [132149]}],\n",
       " ['tttaaatccccctcttgtttattaagctaagactagctgtttg',\n",
       "  {'atgBox': [76180], 'tataBox': [76162], 'ttgacBox': [76137]}],\n",
       " ['ttgtgttgggtggataatatctacgtctaacttgccgccagtg',\n",
       "  {'atgBox': [45831], 'tataBox': [45813], 'ttgacBox': [45788]}],\n",
       " ['ataacgattggaataaatatgaaccaatatactcctgcgtatg',\n",
       "  {'atgBox': [63463], 'tataBox': [63445], 'ttgacBox': [63420]}],\n",
       " ['gtgccgcattctcttctgtgttctttttaccgatgtattcatg',\n",
       "  {'atgBox': [118531], 'tataBox': [118513], 'ttgacBox': [118488]}],\n",
       " ['ttgtttatatcttttatgttttgttttaaagaaactggttttg',\n",
       "  {'atgBox': [141977], 'tataBox': [141959], 'ttgacBox': [141934]}],\n",
       " ['ttccctgcaagttcacaccaatttgtattgcttgagtttcttg',\n",
       "  {'atgBox': [122014], 'tataBox': [121996], 'ttgacBox': [121971]}],\n",
       " ['atgtctaaagatgcgtttgctttatttttacctttaccttttg',\n",
       "  {'atgBox': [84140], 'tataBox': [84122], 'ttgacBox': [84097]}],\n",
       " ['aagactcagttacctcttcagtcagtactagcacattatagtg',\n",
       "  {'atgBox': [30677], 'tataBox': [30659], 'ttgacBox': [30634]}],\n",
       " ['ttaactctgcaatggttgctatcatttcaactcgggtattgtg',\n",
       "  {'atgBox': [71957], 'tataBox': [71939], 'ttgacBox': [71914]}],\n",
       " ['ttgaaaggagaaagaaatatgaaaatcaaacaaaaaagttttg',\n",
       "  {'atgBox': [685], 'tataBox': [667], 'ttgacBox': [642]}],\n",
       " ['tacacgctccttatatcgttttatttaaatagtttattaattg',\n",
       "  {'atgBox': [26176], 'tataBox': [26158], 'ttgacBox': [26133]}],\n",
       " ['aagaccgtcaagaactaccttatcatctaaagcaataagcttg',\n",
       "  {'atgBox': [62342], 'tataBox': [62324], 'ttgacBox': [62299]}],\n",
       " ['tcgataggcgggtaacctagctcgttacgaatatcattaattg',\n",
       "  {'atgBox': [153338], 'tataBox': [153320], 'ttgacBox': [153295]}],\n",
       " ['tctacttgctttgtaaaggttgaaatctgacctgagacgattg',\n",
       "  {'atgBox': [73539], 'tataBox': [73521], 'ttgacBox': [73496]}],\n",
       " ['tcgatcgctgctgtccaactaatattagacgacaccgtacttg',\n",
       "  {'atgBox': [124006], 'tataBox': [123988], 'ttgacBox': [123963]}],\n",
       " ['ttcattaatgttcctccttgtaatatgtatacattcaagagtg',\n",
       "  {'atgBox': [101031], 'tataBox': [101013], 'ttgacBox': [100988]}],\n",
       " ['tgtacatcagttgggggcggagagtcatcacaccctgctagtg',\n",
       "  {'atgBox': [48762], 'tataBox': [48744], 'ttgacBox': [48719]}],\n",
       " ['tttaatgctaaaatacgagcgtcattattctttgccattattg',\n",
       "  {'atgBox': [40285], 'tataBox': [40267], 'ttgacBox': [40242]}],\n",
       " ['tttacaaaattatctaaaaaattctaaaaatatgttgactttg',\n",
       "  {'atgBox': [8938], 'tataBox': [8920], 'ttgacBox': [8895]}],\n",
       " ['ttacccctactctctaataatgatgtttatgtactcgtaaatg',\n",
       "  {'atgBox': [74298], 'tataBox': [74280], 'ttgacBox': [74255]}],\n",
       " ['ttctcactgtttgtcccctcctttttatcctctaaaaccattg',\n",
       "  {'atgBox': [63650], 'tataBox': [63632], 'ttgacBox': [63607]}],\n",
       " ['tttaaataatcaaggtactcgtggttatctgattacccaaatg',\n",
       "  {'atgBox': [8009], 'tataBox': [7991], 'ttgacBox': [7966]}],\n",
       " ['ttgacacctaaagtcttcttcactgtatcgataaagaagattg',\n",
       "  {'atgBox': [122716], 'tataBox': [122698], 'ttgacBox': [122673]}],\n",
       " ['ttgttcatgttcggcacgctccttttatttagttgtttgtgtg',\n",
       "  {'atgBox': [28995], 'tataBox': [28977], 'ttgacBox': [28952]}],\n",
       " ['aagactacatagtctaaactttggaaatacggagtacggaatg',\n",
       "  {'atgBox': [155071], 'tataBox': [155053], 'ttgacBox': [155028]}],\n",
       " ['tgcaccatctgcgaagatactatcacctaatcgtcttaggttg',\n",
       "  {'atgBox': [116027], 'tataBox': [116009], 'ttgacBox': [115984]}],\n",
       " ['tttatgtagaagtcatagttgggtgtaccaataaaatcagatg',\n",
       "  {'atgBox': [76553], 'tataBox': [76535], 'ttgacBox': [76510]}],\n",
       " ['ttgtccaaataggaagaatcccgttgacaatgcacctaatgtg',\n",
       "  {'atgBox': [143193], 'tataBox': [143175], 'ttgacBox': [143150]}],\n",
       " ['ttgtttgtgtgttcccttatctgtctcttactttacatgattg',\n",
       "  {'atgBox': [29027], 'tataBox': [29009], 'ttgacBox': [28984]}],\n",
       " ['tttatgctctgttactgcttttaagaaaaacgttctgtctgtg',\n",
       "  {'atgBox': [33300], 'tataBox': [33282], 'ttgacBox': [33257]}],\n",
       " ['ttcaatggtcgttacatcctcgtactgtactggtttggctatg',\n",
       "  {'atgBox': [90282], 'tataBox': [90264], 'ttgacBox': [90239]}],\n",
       " ['ttgtaccttgcttacgagcaatagcgctaattaaagagtcttg',\n",
       "  {'atgBox': [121598], 'tataBox': [121580], 'ttgacBox': [121555]}],\n",
       " ['ttgtagtcatcatcgttacggtctctactagtgcttcggcttg',\n",
       "  {'atgBox': [37358], 'tataBox': [37340], 'ttgacBox': [37315]}],\n",
       " ['tagaaacccctaccgaaccctaagttatctagtgcagagtttg',\n",
       "  {'atgBox': [125083], 'tataBox': [125065], 'ttgacBox': [125040]}],\n",
       " ['ttcatcttccatttcatgagtctattaacattagcaacgaatg',\n",
       "  {'atgBox': [146774], 'tataBox': [146756], 'ttgacBox': [146731]}],\n",
       " ['gttacttgcatttgcaacgcttgcgaatagaccactagcagtg',\n",
       "  {'atgBox': [130472], 'tataBox': [130454], 'ttgacBox': [130429]}],\n",
       " ['ctgatatttcttcaatcgtgctttctgtcagagcttttgaatg',\n",
       "  {'atgBox': [61394], 'tataBox': [61376], 'ttgacBox': [61351]}],\n",
       " ['tcgtctaatgcaatcgagaagattttgaaagctgctgtgaatg',\n",
       "  {'atgBox': [118401], 'tataBox': [118383], 'ttgacBox': [118358]}],\n",
       " ['ttaaatgtgtcagggaaaggtaataaatgattcagaaacattg',\n",
       "  {'atgBox': [112212], 'tataBox': [112194], 'ttgacBox': [112169]}],\n",
       " ['ttcagcatctctatttccgttaccgtatgacttagccatattg',\n",
       "  {'atgBox': [137712], 'tataBox': [137694], 'ttgacBox': [137669]}],\n",
       " ['ttagcgttccatgtgtttctgtcgatattgatagttgcagatg',\n",
       "  {'atgBox': [126943], 'tataBox': [126925], 'ttgacBox': [126900]}],\n",
       " ['atgaaagcgtcccatacagcgttaggattagcagggttagttg',\n",
       "  {'atgBox': [152278], 'tataBox': [152260], 'ttgacBox': [152235]}],\n",
       " ['tttaccgtttagcttagattggttcaagaagaaaatgttattg',\n",
       "  {'atgBox': [116858], 'tataBox': [116840], 'ttgacBox': [116815]}],\n",
       " ['tgtacactaatttaattataacatagaaaaagctgccaccttg',\n",
       "  {'atgBox': [140667], 'tataBox': [140649], 'ttgacBox': [140624]}],\n",
       " ['ttgtttaactcgttacccatgtatgtatcttcccttctagttg',\n",
       "  {'atgBox': [150823], 'tataBox': [150805], 'ttgacBox': [150780]}],\n",
       " ['tagaattgaatacatgcttaaagtttttagagtagttttgttg',\n",
       "  {'atgBox': [139055], 'tataBox': [139037], 'ttgacBox': [139012]}],\n",
       " ['gtaacaacgaacagtatgtagagtttaatactaatggtaggtg',\n",
       "  {'atgBox': [4039], 'tataBox': [4021], 'ttgacBox': [3996]}],\n",
       " ['gtgaaaccatctagcgttgtcaggataacatcaaagtgttgtg',\n",
       "  {'atgBox': [98979], 'tataBox': [98961], 'ttgacBox': [98936]}],\n",
       " ['ataactcatttgcataaggactaactactagcatttgaacgtg',\n",
       "  {'atgBox': [47317], 'tataBox': [47299], 'ttgacBox': [47274]}],\n",
       " ['ttgtatgaccaatccgaccaatgtgtgtacatgcataaatgtg',\n",
       "  {'atgBox': [7782], 'tataBox': [7764], 'ttgacBox': [7739]}],\n",
       " ['gtaacagctccttgttatttggtaagttaaatataccatgttg',\n",
       "  {'atgBox': [48456], 'tataBox': [48438], 'ttgacBox': [48413]}],\n",
       " ['ccgactcgctcccttcacgtaagccgatataaatagctccttg',\n",
       "  {'atgBox': [146502], 'tataBox': [146484], 'ttgacBox': [146459]}],\n",
       " ['tgtaccaatagctgtacctgcgtccattaatccgatgtcaatg',\n",
       "  {'atgBox': [147885], 'tataBox': [147867], 'ttgacBox': [147842]}],\n",
       " ['gtgataagaaacctagcataaacattacgaatacagtccagtg',\n",
       "  {'atgBox': [78027], 'tataBox': [78009], 'ttgacBox': [77984]}],\n",
       " ['ttaaagaaaaagaccacgttaagcatatgtactgttttaagtg',\n",
       "  {'atgBox': [17552], 'tataBox': [17534], 'ttgacBox': [17509]}],\n",
       " ['cttacgtgccattcttcggatagagtagagtttacctgcattg',\n",
       "  {'atgBox': [127098], 'tataBox': [127080], 'ttgacBox': [127055]}],\n",
       " ['ttaatatggctccaagtgtcacccttattaatagcggttattg',\n",
       "  {'atgBox': [128332], 'tataBox': [128314], 'ttgacBox': [128289]}],\n",
       " ['ttcaacgaacccgatgcttggacaatatctactttctatggtg',\n",
       "  {'atgBox': [21761], 'tataBox': [21743], 'ttgacBox': [21718]}],\n",
       " ['tttagatattttttaaaatttctttgaaaacttcaatatcttg',\n",
       "  {'atgBox': [151013], 'tataBox': [150995], 'ttgacBox': [150970]}],\n",
       " ['tcgccttctgtacgttctactttgaaatagtgaggtgcatgtg',\n",
       "  {'atgBox': [84867], 'tataBox': [84849], 'ttgacBox': [84824]}],\n",
       " ['gtgataacgaagtggatgcagcgaaaataggtaatcgtaaatg',\n",
       "  {'atgBox': [92010], 'tataBox': [91992], 'ttgacBox': [91967]}],\n",
       " ['ttgaattccatttcaatctctcccttttaattgttttttattg',\n",
       "  {'atgBox': [47257], 'tataBox': [47239], 'ttgacBox': [47214]}],\n",
       " ['tataccgtttaaccttgctcgttcaattaattcgtcactaatg',\n",
       "  {'atgBox': [49016], 'tataBox': [48998], 'ttgacBox': [48973]}],\n",
       " ['atgattctaggtacacaccgtactccatactagttcctccttg',\n",
       "  {'atgBox': [109811], 'tataBox': [109793], 'ttgacBox': [109768]}],\n",
       " ['gtgaatggaaagcgctatcctctttaatacccatcttaatgtg',\n",
       "  {'atgBox': [111575], 'tataBox': [111557], 'ttgacBox': [111532]}],\n",
       " ['ttttcaggtttttccatgttagatgtgtgagtgtagtaaattg',\n",
       "  {'atgBox': [96473], 'tataBox': [96455], 'ttgacBox': [96430]}],\n",
       " ['ttaataccgcttcaagctgcttcttcatatcttctacttcttg',\n",
       "  {'atgBox': [112525], 'tataBox': [112507], 'ttgacBox': [112482]}],\n",
       " ['ttagctataacgattcaaaagttatttaaatttaaggtagatg',\n",
       "  {'atgBox': [10710], 'tataBox': [10692], 'ttgacBox': [10667]}],\n",
       " ['ttgcgacacgagtgtaccatgatgctacaggtgagaagctgtg',\n",
       "  {'atgBox': [22321], 'tataBox': [22303], 'ttgacBox': [22278]}],\n",
       " ['tttccacttgccttctgtatcctggtattttctaacaaacttg',\n",
       "  {'atgBox': [27730], 'tataBox': [27712], 'ttgacBox': [27687]}],\n",
       " ['ctgacgatcctgtacttcgatttcgaatagagcatagcgattg',\n",
       "  {'atgBox': [126885], 'tataBox': [126867], 'ttgacBox': [126842]}],\n",
       " ['tttaacgatattcctagcatctagctttatcgtacggaacttg',\n",
       "  {'atgBox': [92755], 'tataBox': [92737], 'ttgacBox': [92712]}],\n",
       " ['ttaatgttattagtccctgtacccctagcaccgactcctcgtg',\n",
       "  {'atgBox': [69076], 'tataBox': [69058], 'ttgacBox': [69033]}],\n",
       " ['ttggaaactagccatttcacggaaagctaactttgtatcattg',\n",
       "  {'atgBox': [139095], 'tataBox': [139077], 'ttgacBox': [139052]}],\n",
       " ['ttaacttgttggcttgcgtcccctttatatgtgtaagtctttg',\n",
       "  {'atgBox': [121885], 'tataBox': [121867], 'ttgacBox': [121842]}],\n",
       " ['atgagggaacattctaatgaataacaatatcgatggaagaatg',\n",
       "  {'atgBox': [7094], 'tataBox': [7076], 'ttgacBox': [7051]}],\n",
       " ['ctgaaaccgtagcacgagacaaatctttatccccgatagggtg',\n",
       "  {'atgBox': [125744], 'tataBox': [125726], 'ttgacBox': [125701]}],\n",
       " ['ttaacatcttcagagtagctgtcgatagagcatccacgatatg',\n",
       "  {'atgBox': [143474], 'tataBox': [143456], 'ttgacBox': [143431]}],\n",
       " ['ttggcgtgatcttttggatttttgtgatagctacagacgggtg',\n",
       "  {'atgBox': [22404], 'tataBox': [22386], 'ttgacBox': [22361]}],\n",
       " ['ctcacacgctcctatatcgttttatttaaatagtcaatcagtg',\n",
       "  {'atgBox': [26469], 'tataBox': [26451], 'ttgacBox': [26426]}],\n",
       " ['ttgttctatacttagggacgctacgcctaatgctgcctggatg',\n",
       "  {'atgBox': [53974], 'tataBox': [53956], 'ttgacBox': [53931]}],\n",
       " ['atgatgtgcttaagtcctcctcatggatacctggtgtactttg',\n",
       "  {'atgBox': [133365], 'tataBox': [133347], 'ttgacBox': [133322]}],\n",
       " ['tggagaactttctcatacaagctgatattctctctttcgaatg',\n",
       "  {'atgBox': [136396], 'tataBox': [136378], 'ttgacBox': [136353]}],\n",
       " ['tcgtccactttgtcacgtaagtagatttcaacttcagcagatg',\n",
       "  {'atgBox': [44107], 'tataBox': [44089], 'ttgacBox': [44064]}],\n",
       " ['tcgaaatattctttactgaatccgttgtatgctttcttgaatg',\n",
       "  {'atgBox': [91515], 'tataBox': [91497], 'ttgacBox': [91472]}],\n",
       " ['ttggatcaatctgttcttcctgggctaaatcgaatactaattg',\n",
       "  {'atgBox': [65127], 'tataBox': [65109], 'ttgacBox': [65084]}],\n",
       " ['tgtacatttcgctaccacctttctataccattataccattatg',\n",
       "  {'atgBox': [133267], 'tataBox': [133249], 'ttgacBox': [133224]}],\n",
       " ['tcgaactcagttagatactgcttataatcaacatagttatatg',\n",
       "  {'atgBox': [76274], 'tataBox': [76256], 'ttgacBox': [76231]}],\n",
       " ['ttaaggtcatcgtccattgtaaggatatgacaagatgataatg',\n",
       "  {'atgBox': [98030], 'tataBox': [98012], 'ttgacBox': [97987]}],\n",
       " ['atgatgatgcatatattatcctggttgtcaatcactaagtttg',\n",
       "  {'atgBox': [26243], 'tataBox': [26225], 'ttgacBox': [26200]}],\n",
       " ['ttcactttctttttccataatctgctcaaaagctttgccgatg',\n",
       "  {'atgBox': [54985], 'tataBox': [54967], 'ttgacBox': [54942]}],\n",
       " ['tttcctttgcaggagcgttaaacgatttaatacttggggattg',\n",
       "  {'atgBox': [102107], 'tataBox': [102089], 'ttgacBox': [102064]}],\n",
       " ['ataactcgtctgtaactcatgaccttattgtataatcatagtg',\n",
       "  {'atgBox': [51074], 'tataBox': [51056], 'ttgacBox': [51031]}],\n",
       " ['atgaaacattttatagattattgcgtaaacagtcaccaaggtg',\n",
       "  {'atgBox': [28245], 'tataBox': [28227], 'ttgacBox': [28202]}],\n",
       " ['ttaatacttctgataatttagccattgttattctcccttcttg',\n",
       "  {'atgBox': [81539], 'tataBox': [81521], 'ttgacBox': [81496]}],\n",
       " ['ttcaccgtcatgattcttctttaggtagatcgtatcttctatg',\n",
       "  {'atgBox': [100319], 'tataBox': [100301], 'ttgacBox': [100276]}]]"
      ]
     },
     "execution_count": 44,
     "metadata": {},
     "output_type": "execute_result"
    }
   ],
   "source": [
    "fetchingTheSequences(phageDNA,output)\n"
   ]
  },
  {
   "cell_type": "code",
   "execution_count": 218,
   "metadata": {
    "collapsed": false
   },
   "outputs": [
    {
     "ename": "SyntaxError",
     "evalue": "invalid syntax (<ipython-input-218-daf573f09246>, line 1)",
     "output_type": "error",
     "traceback": [
      "\u001b[0;36m  File \u001b[0;32m\"<ipython-input-218-daf573f09246>\"\u001b[0;36m, line \u001b[0;32m1\u001b[0m\n\u001b[0;31m    def probablisticSearch:\u001b[0m\n\u001b[0m                          ^\u001b[0m\n\u001b[0;31mSyntaxError\u001b[0m\u001b[0;31m:\u001b[0m invalid syntax\n"
     ]
    }
   ],
   "source": [
    "def probablisticSearch:\n",
    "    for window in listOfFeatures:\n",
    "    #         if feature != \"CplusGcount\":\n",
    "        if listOfFeatures[window][\"tataBox\"][0]>0 and listOfFeatures[window][\"ccaatBox\"][0]>0: #and listOfFeatures[window][\"gcBox\"][0]>0:\n",
    "            print window\n",
    "            print listOfFeatures[window]\n",
    "            print listOfFeatures[window][\"tataBox\"][1] - listOfFeatures[window][\"ccaatBox\"][1]"
   ]
  },
  {
   "cell_type": "code",
   "execution_count": null,
   "metadata": {
    "collapsed": false
   },
   "outputs": [],
   "source": [
    "simulink\n",
    "\n"
   ]
  }
 ],
 "metadata": {
  "anaconda-cloud": {},
  "kernelspec": {
   "display_name": "Python [Root]",
   "language": "python",
   "name": "Python [Root]"
  },
  "language_info": {
   "codemirror_mode": {
    "name": "ipython",
    "version": 2
   },
   "file_extension": ".py",
   "mimetype": "text/x-python",
   "name": "python",
   "nbconvert_exporter": "python",
   "pygments_lexer": "ipython2",
   "version": "2.7.12"
  }
 },
 "nbformat": 4,
 "nbformat_minor": 0
}
